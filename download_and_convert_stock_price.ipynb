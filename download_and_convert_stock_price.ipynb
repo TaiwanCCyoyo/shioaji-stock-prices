{
 "cells": [
  {
   "cell_type": "markdown",
   "metadata": {},
   "source": [
    "# **Download and Convert Stock Price**\n",
    "- 使用 shioaji API 來下載台股的分 K 資料到 local 資料夾，並存儲為 .csv 檔案\n",
    "  * 路徑為 config.DATA_DIR ，預設為 data\n",
    "- 若已經有舊的資料，會根據 local 端的資料新舊程度進行更新\n",
    "- 若每日流量已經用完，也會登出結束程式\n",
    "- 每個有登入 shioaji API 的 block 都要記得登出，否則帳號容易被暫時停用，詳情請見 https://sinotrade.github.io/zh_TW/tutor/login/\n"
   ]
  },
  {
   "cell_type": "markdown",
   "metadata": {},
   "source": [
    "### Import package"
   ]
  },
  {
   "cell_type": "code",
   "execution_count": null,
   "metadata": {},
   "outputs": [],
   "source": [
    "import shioaji as sj\n",
    "import pandas as pd\n",
    "import os\n",
    "import datetime\n",
    "import re\n",
    "import json5\n",
    "from config import config"
   ]
  },
  {
   "cell_type": "markdown",
   "metadata": {},
   "source": [
    "## **Download**"
   ]
  },
  {
   "cell_type": "markdown",
   "metadata": {},
   "source": [
    "### 取得股票種類之對照資訊\n",
    "* 路徑為 config.STOCK_CATEGORY ，預設為 data/stock_category.json5"
   ]
  },
  {
   "cell_type": "code",
   "execution_count": null,
   "metadata": {},
   "outputs": [],
   "source": [
    "with open(config.STOCK_CATEGORY, \"r\", encoding=\"utf-8\") as f:\n",
    "    stock_category = json5.load(f)"
   ]
  },
  {
   "cell_type": "markdown",
   "metadata": {},
   "source": [
    "### 取得 API 金鑰資訊"
   ]
  },
  {
   "cell_type": "code",
   "execution_count": null,
   "metadata": {},
   "outputs": [],
   "source": [
    "# 建立 Shioaji api 物件\n",
    "api = sj.Shioaji()\n",
    "\n",
    "# API key 以檔案形式存在，預設為 api.key\n",
    "with open(config.API_KEY, \"r\") as f:\n",
    "    api_key = f.readline().strip()\n",
    "    secret_key = f.readline().strip()"
   ]
  },
  {
   "cell_type": "markdown",
   "metadata": {},
   "source": [
    "### 取得台股股號名稱對照表\n",
    "* 路徑為 config.STOCK_SYMBOL_MAPPING ，預設為 data/stock_symbol_mapping.json5"
   ]
  },
  {
   "cell_type": "code",
   "execution_count": null,
   "metadata": {},
   "outputs": [],
   "source": [
    "accounts = api.login(api_key=api_key, secret_key=secret_key)\n",
    "\n",
    "all_contracts = []\n",
    "\n",
    "# 上市股票\n",
    "all_contracts.extend(api.Contracts.Stocks.TSE)\n",
    "\n",
    "# 上櫃股票\n",
    "all_contracts.extend(api.Contracts.Stocks.OTC)\n",
    "\n",
    "# 大盤指數\n",
    "all_contracts.append(api.Contracts.Indexs.TSE[\"001\"])\n",
    "\n",
    "# 建立股號股名對照表\n",
    "stock_symbol_mapping = {item.code: item.name for item in all_contracts}\n",
    "stock_symbol_mapping = dict(sorted(stock_symbol_mapping.items()))\n",
    "\n",
    "# 將對照表存儲為 JSON5 檔案\n",
    "with open(config.STOCK_SYMBOL_MAPPING, \"w\", encoding=\"utf-8\") as f:\n",
    "    json5.dump(stock_symbol_mapping, f, ensure_ascii=False, indent=4)\n",
    "    print(f\"對照表已經儲存至 {config.STOCK_SYMBOL_MAPPING}\")\n",
    "\n",
    "api.logout()"
   ]
  },
  {
   "cell_type": "markdown",
   "metadata": {},
   "source": [
    "### 自訂台股下載列表\n",
    "* 表列上市櫃股票和大盤指數，避免下載期權和乙特等特殊股票"
   ]
  },
  {
   "cell_type": "code",
   "execution_count": null,
   "metadata": {},
   "outputs": [],
   "source": [
    "accounts = api.login(api_key=api_key, secret_key=secret_key)\n",
    "\n",
    "TSE_contract_list = api.Contracts.Stocks.TSE\n",
    "OTC_contract_list = api.Contracts.Stocks.OTC\n",
    "\n",
    "# 取得代下載的列表\n",
    "contract_list = []\n",
    "\n",
    "# 上市股票\n",
    "option_code = [key for key, value in stock_category[\"TSE\"].items() if value == \"期權\"]\n",
    "for contract in TSE_contract_list:\n",
    "    if contract.category not in option_code and re.match(\"^[0-9]+$\", contract.code):\n",
    "        contract_list.append(contract)\n",
    "\n",
    "# 上櫃股票\n",
    "option_code = [key for key, value in stock_category[\"OTC\"].items() if value == \"期權\"]\n",
    "for contract in OTC_contract_list:\n",
    "    if contract.category not in option_code and re.match(\"^[0-9]+$\", contract.code):\n",
    "        contract_list.append(contract)\n",
    "\n",
    "# 大盤指數\n",
    "contract_list.append(api.Contracts.Indexs.TSE[\"001\"])\n",
    "\n",
    "# 排序\n",
    "contract_list = sorted(contract_list, key=lambda x: x.code)\n",
    "\n",
    "api.logout()"
   ]
  },
  {
   "cell_type": "markdown",
   "metadata": {},
   "source": [
    "### 下載分 K 資料\n",
    "* 自動比較更新時間\n",
    "* 超過每日流量上限自動結束並登出"
   ]
  },
  {
   "cell_type": "code",
   "execution_count": null,
   "metadata": {},
   "outputs": [],
   "source": [
    "start_time = datetime.datetime.now()\n",
    "today_date = start_time\n",
    "today_str = today_date.strftime(\"%Y-%m-%d\")\n",
    "\n",
    "accounts = api.login(api_key=api_key, secret_key=secret_key)\n",
    "downloadable = True\n",
    "\n",
    "for contract in contract_list:\n",
    "    # 股票資料檔案名稱\n",
    "    stock_file = f\"{config.DATA_DIR}/{contract.code}_min.csv\"\n",
    "\n",
    "    start_date_str = config.SHIOAJI_START_DATE\n",
    "    start_date = datetime.datetime.strptime(start_date_str, \"%Y-%m-%d\")\n",
    "    if os.path.isfile(stock_file):\n",
    "        # 讀取本地股票資料\n",
    "        print(f\"讀取{contract.name} ({contract.code}) 的資料\")\n",
    "        try:\n",
    "            df = pd.read_csv(stock_file)\n",
    "            df.ts = pd.to_datetime(df.ts)\n",
    "            if not df.empty:\n",
    "                start_date_str = (\n",
    "                    df.iloc[-1][\"ts\"] + datetime.timedelta(days=1)\n",
    "                ).strftime(\"%Y-%m-%d\")\n",
    "                start_date = datetime.datetime.strptime(\n",
    "                    f\"{start_date_str} 08:00\", \"%Y-%m-%d %H:%M\"\n",
    "                )\n",
    "        except Exception:\n",
    "            print(f\"{stock_file}讀取失敗\")\n",
    "            api.logout()\n",
    "            raise Exception\n",
    "\n",
    "    # 若本地股票資料已經更新過就不再更新\n",
    "    if start_date >= today_date:\n",
    "        print(\n",
    "            f\"跳過{contract.name} ({contract.code}) 因為已經擁有 {start_date_str} 之前的資料\"\n",
    "        )\n",
    "        continue\n",
    "\n",
    "    success = False\n",
    "    while not success:\n",
    "        print(\n",
    "            f\"嘗試取得{contract.name} ({contract.code}) 從 {start_date_str} 到 {today_str} 的資料\"\n",
    "        )\n",
    "\n",
    "        # 取得 K 棒資料\n",
    "        stock_get_start = datetime.datetime.now()\n",
    "        kbars = api.kbars(contract=contract, start=start_date_str, end=today_str)\n",
    "        stock_get_end = datetime.datetime.now()\n",
    "        print(f\"共花費: {(stock_get_end - stock_get_start).total_seconds()} 秒\")\n",
    "        # 將資料轉換成 DataFrame\n",
    "        df = pd.DataFrame({**kbars})\n",
    "        if df.empty:\n",
    "            usage_bytes = api.usage().bytes\n",
    "            if usage_bytes < 524288000:\n",
    "                print(f\"今日已使用 {usage_bytes} B\")\n",
    "                break\n",
    "            else:\n",
    "                print(f\"今日已使用 {usage_bytes} B\")\n",
    "                downloadable = False\n",
    "                api.logout()\n",
    "        else:\n",
    "            success = True\n",
    "\n",
    "    if not downloadable:\n",
    "        break\n",
    "\n",
    "    if not success:\n",
    "        print(\n",
    "            f\"跳過{contract.name} ({contract.code}) 因為從 {start_date_str} 到 {today_str} 的資料取得失敗\"\n",
    "        )\n",
    "        continue\n",
    "\n",
    "    if os.path.isfile(stock_file):\n",
    "        # 讀取本地股票資料\n",
    "        print(f\"再次讀取{contract.name} ({contract.code}) 的資料\")\n",
    "        try:\n",
    "            df_old = pd.read_csv(stock_file)\n",
    "            print(\"合併資料\")\n",
    "            merged_df = pd.concat([df_old, df], axis=0)\n",
    "            df = merged_df\n",
    "        except Exception:\n",
    "            print(f\"{stock_file}讀取失敗\")\n",
    "            api.logout()\n",
    "            raise Exception\n",
    "\n",
    "    # 將資料儲存到本地股票資料\n",
    "    try:\n",
    "        print(\"將資料存儲到本地股票資料\")\n",
    "        df.to_csv(stock_file, index=False)\n",
    "    except Exception:\n",
    "        print(f\"{stock_file} 儲存失敗\")\n",
    "        try:\n",
    "            os.remove(stock_file)\n",
    "        except OSError:\n",
    "            pass\n",
    "\n",
    "api.logout()\n",
    "end_time = datetime.datetime.now()\n",
    "print(f\"結束: {end_time.strftime('%Y-%m-%d %H:%M:%S')}\")\n",
    "\n",
    "total_time = (end_time - start_time).total_seconds()\n",
    "print(f\"程式共花費: {total_time} 秒\")"
   ]
  },
  {
   "cell_type": "markdown",
   "metadata": {},
   "source": [
    "## **Convert**"
   ]
  },
  {
   "cell_type": "markdown",
   "metadata": {},
   "source": [
    "### 以分 K 資料生成日 K\n",
    "* 因為 multiple process 搭配 Jupyter Notebook 有一些 OS 不支援，因此把相關程式碼寫在 convert_stock_price.py ，再去執行他"
   ]
  },
  {
   "cell_type": "code",
   "execution_count": null,
   "metadata": {},
   "outputs": [],
   "source": [
    "import subprocess\n",
    "\n",
    "# 開始執行時間\n",
    "start_time = datetime.datetime.now()\n",
    "print(f\"開始: {start_time.strftime('%Y-%m-%d %H:%M:%S')}\")\n",
    "\n",
    "print(\"執行: python convert_stock_price.py\")\n",
    "os.system(\"python convert_stock_price.py\")\n",
    "# result = subprocess.run(\n",
    "#     [\"python\", \"convert_stock_price.py\"], capture_output=True, text=True\n",
    "# )\n",
    "\n",
    "# # 輸出命令的標準輸出和標準錯誤\n",
    "# print(\"標準輸出:\", result.stdout)\n",
    "# print(\"標準錯誤:\", result.stderr)\n",
    "\n",
    "# 結束執行時間\n",
    "end_time = datetime.datetime.now()\n",
    "print(f\"結束: {end_time.strftime('%Y-%m-%d %H:%M:%S')}\")\n",
    "\n",
    "# 計算執行時間\n",
    "total_time = (end_time - start_time).total_seconds()\n",
    "print(f\"程式共花費: {total_time} 秒\")"
   ]
  }
 ],
 "metadata": {
  "kernelspec": {
   "display_name": "Python 3",
   "language": "python",
   "name": "python3"
  },
  "language_info": {
   "codemirror_mode": {
    "name": "ipython",
    "version": 3
   },
   "file_extension": ".py",
   "mimetype": "text/x-python",
   "name": "python",
   "nbconvert_exporter": "python",
   "pygments_lexer": "ipython3",
   "version": "3.11.8"
  }
 },
 "nbformat": 4,
 "nbformat_minor": 2
}
